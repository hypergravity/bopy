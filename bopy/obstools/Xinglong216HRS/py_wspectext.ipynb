{
 "cells": [
  {
   "cell_type": "code",
   "execution_count": 16,
   "metadata": {},
   "outputs": [],
   "source": [
    "import os\n",
    "import sys\n",
    "from pyraf import iraf\n",
    "from astropy.io import fits"
   ]
  },
  {
   "cell_type": "code",
   "execution_count": 49,
   "metadata": {},
   "outputs": [
    {
     "name": "stdout",
     "output_type": "stream",
     "text": [
      "103 4096\n"
     ]
    }
   ],
   "source": [
    "def wspectext_allap(filepath, apaxis=0):\n",
    "    nrow, ncol = fits.open(filepath)[0].data.shape\n",
    "    print '@Cham: nrow = %d, ncol=%d'%(nrow, ncol)\n",
    "    \n",
    "    iraf.noao()\n",
    "    iraf.noao.onedspec()\n",
    "    \n",
    "    filename = filepath.split(os.path.sep)[-1]\n",
    "    \n",
    "    # determine dirname & dirpath\n",
    "    dirname = filepath.split(os.path.sep)[-1].replace('.fits','')\n",
    "    if os.path.dirname(filepath) == '':\n",
    "        dirpath = dirname\n",
    "    else:\n",
    "        dirpath = os.path.dirname(filepath) + os.path.sep + dirname\n",
    "\n",
    "    if os.path.exists(dirpath):\n",
    "        # if dirpath exists\n",
    "        print '@Cham: directory exists ... (%s)'%dirpath\n",
    "    else:\n",
    "        # if dirpath doesn't exist, mkdir\n",
    "        os.mkdir(dirpath)\n",
    "        print '@Cham: mkdir %s'%dirpath\n",
    "    \n",
    "    # execute wspectest\n",
    "    if not apaxis == 1:\n",
    "        for apnum in xrange(1, nrow+1):\n",
    "            _input = '%s[1:%d, %d]'%(filename, ncol, apnum)\n",
    "            _output = dirpath + os.sep + filename.replace('.fits', '_%04d.dat'%apnum)\n",
    "            print '@Cham: wspectext running ... [%s]'%_output\n",
    "            iraf.onedspec.wspectext(input=_input, output=_output, header='no')\n",
    "    else:\n",
    "        for apnum in xrange(1, ncol+1):\n",
    "            _input = '%s[%d, 1:%d]'%(filename, apnum, nrow)\n",
    "            _output = dirpath + os.sep + filename.replace('.fits', '_%04d.dat'%apnum)\n",
    "            print '@Cham: wspectext running ... [%s]'%_output\n",
    "            iraf.onedspec.wspectext(input=_input, output=_output, header='no')\n",
    "    print '@Cham: ----------------------'\n",
    "    print '@Cham: mission complete!'\n",
    "    print '@Cham: ----------------------'"
   ]
  },
  {
   "cell_type": "code",
   "execution_count": null,
   "metadata": {},
   "outputs": [],
   "source": [
    "if __name__ == '__main__':\n",
    "    # ipython py_wspectxt ./w*s.fits\n",
    "    if len(sys.argv) < 2:\n",
    "        print '@Cham: not enough arguments ...'\n",
    "    elif len(sys.argv) == 2:\n",
    "        wspectext_allap(sys.argv[1])\n",
    "    elif len(sys.argv) >= 3:\n",
    "        if sys.argv[-1]=='0' or sys.argv[-1]=='1':\n",
    "            # apaxis specified\n",
    "            for i in xrange(1, len(sys.argv)-1):\n",
    "                wspectext_allap(sys.argv[i], sys.argv[-1])\n",
    "        else:\n",
    "            # apaxis not specified\n",
    "            for i in xrange(1, len(sys.argv)):\n",
    "                wspectext_allap(sys.argv[i])"
   ]
  },
  {
   "cell_type": "code",
   "execution_count": null,
   "metadata": {},
   "outputs": [],
   "source": [
    ""
   ]
  },
  {
   "cell_type": "code",
   "execution_count": null,
   "metadata": {},
   "outputs": [],
   "source": [
    ""
   ]
  }
 ],
 "metadata": {
  "kernelspec": {
   "display_name": "Python 2",
   "language": "python",
   "name": "python2"
  },
  "language_info": {
   "codemirror_mode": {
    "name": "ipython",
    "version": 2.0
   },
   "file_extension": ".py",
   "mimetype": "text/x-python",
   "name": "python",
   "nbconvert_exporter": "python",
   "pygments_lexer": "ipython2",
   "version": "2.7.6"
  }
 },
 "nbformat": 4,
 "nbformat_minor": 0
}