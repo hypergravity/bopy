{
 "cells": [
  {
   "cell_type": "code",
   "execution_count": 1,
   "metadata": {
    "collapsed": false
   },
   "outputs": [
    {
     "name": "stdout",
     "output_type": "stream",
     "text": [
      "Using matplotlib backend: Qt4Agg\n",
      "Populating the interactive namespace from numpy and matplotlib\n"
     ]
    }
   ],
   "source": [
    "%pylab\n",
    "%matplotlib qt\n",
    "\n",
    "from astropy.table import Table\n",
    "\n",
    "from bopy.spec.spec import spec_quick_init, Spec, norm_spec_pixel"
   ]
  },
  {
   "cell_type": "code",
   "execution_count": 2,
   "metadata": {
    "collapsed": true
   },
   "outputs": [],
   "source": [
    "bc03dir = '/home/cham/PycharmProjects/bopy/bopy/data/model_bc03/'\n",
    "bc03cat = Table.read(\n",
    "    '/home/cham/PycharmProjects/bopy/bopy/data/model_bc03/Base.BC03.N.csv')"
   ]
  },
  {
   "cell_type": "code",
   "execution_count": 47,
   "metadata": {
    "collapsed": false
   },
   "outputs": [],
   "source": [
    "wave_intervals = [[5600, 5900], [6100., 6400]]\n",
    "\n",
    "specs = []\n",
    "for i in xrange(len(bc03cat)):\n",
    "    fp = bc03dir + bc03cat['specfile'][i]\n",
    "    spec = np.loadtxt(fp)\n",
    "    spec = Spec(Table(spec, names=['wave', 'flux']))\n",
    "    spec = norm_spec_pixel(spec, 5800.)\n",
    "    specs.append(spec.extract_chunk_wave_interval(wave_intervals))\n",
    "#     plt.plot(spec_chunks['wave'], spec_chunks['flux'])"
   ]
  },
  {
   "cell_type": "code",
   "execution_count": 54,
   "metadata": {
    "collapsed": false
   },
   "outputs": [],
   "source": [
    "def spec_quick_view(ax, spec_chunks_list, wave_intervals=None,\n",
    "                    wave_centers = None,\n",
    "                    xtick_step = 50.,\n",
    "                    num_spec_perpage=30, \n",
    "                    offset_perspec=0.5, \n",
    "                    wave_label='abs',\n",
    "                    xtick_gap_fraction = .1,\n",
    "                    cl='', *args, **kwargs):\n",
    "    \"\"\" \n",
    "    Parameters\n",
    "    ----------\n",
    "    ax: axes\n",
    "        the axes on which spectra will be plotted\n",
    "    spec_chunks_list: list of list\n",
    "        a list of spec chunks\n",
    "    ranges: None or Nx2 array\n",
    "        you have to specify ranges if you have more than one chunks for a spec\n",
    "    \n",
    "    \"\"\"\n",
    "    # for XTICK -----------------------------------------------------\n",
    "    \n",
    "    \n",
    "\n",
    "    wave_intervals = np.array(wave_intervals)\n",
    "    N_spec = len(spec_chunks_list)\n",
    "    N_chunks = len(wave_intervals)\n",
    "\n",
    "    wave_totalspan = np.sum(np.diff(wave_intervals))\n",
    "    wave_gap = xtick_gap_fraction * wave_totalspan / (N_chunks - 1)\n",
    "    print 'wave_gap', wave_gap\n",
    "\n",
    "    # calculate how much wavelength should shift (to the left side)\n",
    "    PLOT_START = 0.\n",
    "    wave_offset_intercept = wave_intervals[0, 0] - PLOT_START\n",
    "    wave_offset_spec = np.hstack((np.array(0), (wave_intervals[1:,0]-wave_intervals[:-1,1]).flatten()))\n",
    "    wave_offset_gap = np.roll(np.ones(N_chunks) * wave_gap, 1)\n",
    "    wave_offset_gap[0] = 0\n",
    "    wave_offset = np.cumsum(wave_offset_spec - wave_offset_gap) + wave_offset_intercept\n",
    "    wave_offset\n",
    "    \n",
    "    # for XTICK ------------------------------------------------------\n",
    "    xtick_pos, xtick_lab = [], []\n",
    "    for i_chunk in xrange(N_chunks):\n",
    "        n_xtick_l = np.int(np.abs((wave_centers[i_chunk] - wave_intervals[i_chunk][0]) / xtick_step))\n",
    "        n_xtick_r = np.int(np.abs((wave_centers[i_chunk] - wave_intervals[i_chunk][1]) / xtick_step))\n",
    "        xtick_pos_, xtick_lab_ = generate_chunk_xtick_label(\n",
    "            n_xtick_l, n_xtick_r, wave_centers[i_chunk], \n",
    "            xtick_step=xtick_step, wave_offset=wave_offset[i_chunk])\n",
    "        xtick_pos.extend(xtick_pos_)\n",
    "        xtick_lab.extend(xtick_lab_)\n",
    "    \n",
    "    # PLOT -----------------------------------------------------------\n",
    "    for i in xrange(N_spec):\n",
    "        # for each list of spec chunks, do these:\n",
    "        \n",
    "        spec_chunks = spec_chunks_list[i]\n",
    "        \n",
    "        offset = -1 + (i+1) * offset_perspec\n",
    "        \n",
    "        for j in xrange(len(spec_chunks)):\n",
    "            spec_chunk = spec_chunks[j]\n",
    "            ax.plot(spec_chunk['wave']- wave_offset[j], spec_chunk['flux'] + offset, cl, *args, **kwargs)\n",
    "    \n",
    "    ax.set_xticks(xtick_pos)\n",
    "    ax.set_xticklabels(xtick_lab)\n",
    "    return 0"
   ]
  },
  {
   "cell_type": "code",
   "execution_count": 57,
   "metadata": {
    "collapsed": false
   },
   "outputs": [
    {
     "name": "stdout",
     "output_type": "stream",
     "text": [
      "wave_gap 12.0\n"
     ]
    },
    {
     "data": {
      "text/plain": [
       "0"
      ]
     },
     "execution_count": 57,
     "metadata": {},
     "output_type": "execute_result"
    }
   ],
   "source": [
    "fig = plt.figure()\n",
    "ax = fig.add_subplot(111)\n",
    "spec_quick_view(ax, specs, wave_intervals=wave_intervals,\n",
    "                wave_centers=[5780.1, 6284.1],\n",
    "                xtick_step = 50., xtick_gap_fraction = 0.02,\n",
    "                num_spec_perpage=30, offset_perspec=0.1, wave_label='abs',\n",
    "                cl='')\n",
    "# ax.plot([5780, 5780], ax.get_ylim(), 'k--')\n",
    "# ax.plot([6284, 6284], ax.get_ylim(), 'k--')\n",
    "\n",
    "\n"
   ]
  },
  {
   "cell_type": "code",
   "execution_count": 36,
   "metadata": {
    "collapsed": false
   },
   "outputs": [
    {
     "data": {
      "text/plain": [
       "array([ 5500.,  5600.])"
      ]
     },
     "execution_count": 36,
     "metadata": {},
     "output_type": "execute_result"
    }
   ],
   "source": [
    "xtick_step = 20.\n",
    "GAP_FRACTION = .1\n",
    "\n",
    "wave_intervals = np.array(wave_intervals)\n",
    "N_chunks = len(wave_intervals)\n",
    "\n",
    "wave_totalspan = np.sum(np.diff(wave_intervals))\n",
    "wave_gap = GAP_FRACTION * wave_totalspan / (N_chunks - 1)\n",
    "\n",
    "# calculate how much wavelength should shift (to the left side)\n",
    "PLOT_START = 0.\n",
    "wave_offset_intercept = wave_intervals[0, 0] - PLOT_START\n",
    "wave_offset_spec = np.hstack((np.array(0), (wave_intervals[1:,0]-wave_intervals[:-1,1]).flatten()))\n",
    "wave_offset_gap = np.roll(np.ones(N_chunks) * wave_gap, 1)\n",
    "wave_offset_gap[0] = 0\n",
    "wave_offset = np.cumsum(wave_offset_spec + wave_offset_gap) + wave_offset_intercept\n",
    "wave_offset\n"
   ]
  },
  {
   "cell_type": "code",
   "execution_count": null,
   "metadata": {
    "collapsed": false,
    "scrolled": true
   },
   "outputs": [],
   "source": [
    "# calculate xticks\n",
    "# 1> xtick positions & xtick labels\n",
    "xtick_pos, xtick_lab = [], []\n",
    "for i_chunk in xrange(N_chunks):\n",
    "    n_xtick_l = np.int(np.abs((wave_centers[i_chunk] - wave_intervals[i_chunk][0]) / xtick_step))\n",
    "    n_xtick_r = np.int(np.abs((wave_centers[i_chunk] - wave_intervals[i_chunk][1]) / xtick_step))\n",
    "    xtick_pos_, xtick_lab_ = generate_chunk_xtick_label(\n",
    "        n_xtick_l, n_xtick_r, wave_centers[i_chunk], \n",
    "        xtick_step=xtick_step, wave_offset=wave_offset[i_chunk])\n",
    "    xtick_pos.extend(xtick_pos_)\n",
    "    xtick_lab.extend(xtick_lab_)\n",
    "print xtick_pos\n",
    "print xtick_lab\n"
   ]
  },
  {
   "cell_type": "code",
   "execution_count": 7,
   "metadata": {
    "collapsed": false
   },
   "outputs": [],
   "source": [
    "def generate_chunk_xtick_label(n_xtick_l, n_xtick_r, wave_center, \n",
    "                               xtick_step=50., wave_offset=0.):\n",
    "    # relative xtick position\n",
    "    xtick_pos_rel = np.arange(-n_xtick_l, n_xtick_r+1) * xtick_step\n",
    "    \n",
    "    # xtick labels\n",
    "    xtick_lab = ['%.0f' % xtick_pos_rel_ for xtick_pos_rel_ in xtick_pos_rel]\n",
    "    xtick_lab[n_xtick_l] = '%.1f' % wave_center\n",
    "    \n",
    "    # xtick positions\n",
    "    xtick_pos = xtick_pos_rel + wave_center - wave_offset\n",
    "    \n",
    "    return xtick_pos, xtick_lab\n",
    "\n",
    "generate_chunk_xtick_label(9, 9, 5780.1, \n",
    "                           xtick_step=50., wave_offset=0.);"
   ]
  },
  {
   "cell_type": "code",
   "execution_count": null,
   "metadata": {
    "collapsed": true
   },
   "outputs": [],
   "source": [
    "fig = plt.figure()\n",
    "ax = fig.add_subplot(111)\n",
    "ax.plot(test_spec_chunks[0]['wave'] + wave_offset, test_spec_chunks[0]['flux'])\n",
    "\n",
    "this_chunk_xticks = \n",
    "ax.set_xticks()\n",
    "\n",
    "wave_offset += np.diff(wave_intervals[i_chunk])"
   ]
  },
  {
   "cell_type": "code",
   "execution_count": null,
   "metadata": {
    "collapsed": false
   },
   "outputs": [],
   "source": [
    "wave_intervals"
   ]
  },
  {
   "cell_type": "code",
   "execution_count": null,
   "metadata": {
    "collapsed": false
   },
   "outputs": [],
   "source": [
    "xticks = ax.get_xticks()"
   ]
  },
  {
   "cell_type": "code",
   "execution_count": null,
   "metadata": {
    "collapsed": false
   },
   "outputs": [],
   "source": [
    "np.hstack((xticks, 1.0))"
   ]
  },
  {
   "cell_type": "code",
   "execution_count": null,
   "metadata": {
    "collapsed": false
   },
   "outputs": [],
   "source": [
    "ax.get_xticklines()"
   ]
  },
  {
   "cell_type": "code",
   "execution_count": null,
   "metadata": {
    "collapsed": false
   },
   "outputs": [],
   "source": [
    "xticklabel0 = ax.get_xticklabels()[0]"
   ]
  },
  {
   "cell_type": "code",
   "execution_count": null,
   "metadata": {
    "collapsed": false
   },
   "outputs": [],
   "source": [
    "xticklabel0.get_text()"
   ]
  },
  {
   "cell_type": "code",
   "execution_count": null,
   "metadata": {
    "collapsed": true
   },
   "outputs": [],
   "source": []
  }
 ],
 "metadata": {
  "kernelspec": {
   "display_name": "Python 2",
   "language": "python",
   "name": "python2"
  },
  "language_info": {
   "codemirror_mode": {
    "name": "ipython",
    "version": 2
   },
   "file_extension": ".py",
   "mimetype": "text/x-python",
   "name": "python",
   "nbconvert_exporter": "python",
   "pygments_lexer": "ipython2",
   "version": "2.7.6"
  }
 },
 "nbformat": 4,
 "nbformat_minor": 0
}
